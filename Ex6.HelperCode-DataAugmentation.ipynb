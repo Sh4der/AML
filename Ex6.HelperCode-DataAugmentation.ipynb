{
 "cells": [
  {
   "cell_type": "markdown",
   "id": "4e9ceba0",
   "metadata": {},
   "source": [
    "<img src=\"https://www.th-koeln.de/img/logo.svg\" style=\"float:right;\" width=\"200\">"
   ]
  },
  {
   "cell_type": "markdown",
   "id": "350d1de0",
   "metadata": {},
   "source": [
    "# 6th exercise: <font color=\"#C70039\">Perform data augmentation for sample solution in exercise 6</font>\n",
    "* Course: AML\n",
    "* Lecturer: <a href=\"https://www.gernotheisenberg.de/\">Gernot Heisenberg</a>\n",
    "* Author of notebook: <a href=\"https://www.gernotheisenberg.de/\">Gernot Heisenberg</a>\n",
    "* Date:   15.06.2022\n",
    "\n",
    "<img src=\"http://ai.stanford.edu/blog/assets/img/posts/2020-04-20-data-augmentation/thumbnail.png\" style=\"float: center;\" width=\"450\">\n",
    "\n",
    "---------------------------------\n",
    "**GENERAL NOTE 1**: \n",
    "Please make sure you are reading the entire notebook, since it contains a lot of information on your tasks (e.g. regarding the set of certain paramaters or a specific computational trick), and the written mark downs as well as comments contain a lot of information on how things work together as a whole. \n",
    "\n",
    "---------------------\n",
    "\n",
    "### <font color=\"ce33ff\">DESCRIPTION</font>:\n",
    "This notebook allows you for performing data augmentation and saving the augmented images back to disc. \n",
    "\n",
    "-------------------------------------------------------------------------------------------------------------"
   ]
  },
  {
   "cell_type": "code",
   "execution_count": 1,
   "id": "c3e4aa43",
   "metadata": {},
   "outputs": [],
   "source": [
    "from tensorflow.keras.preprocessing.image import ImageDataGenerator, array_to_img, img_to_array, load_img\n",
    "import os"
   ]
  },
  {
   "cell_type": "code",
   "execution_count": 1,
   "id": "e22488a4",
   "metadata": {},
   "outputs": [
    {
     "ename": "NameError",
     "evalue": "name 'ImageDataGenerator' is not defined",
     "output_type": "error",
     "traceback": [
      "\u001b[1;31m---------------------------------------------------------------------------\u001b[0m",
      "\u001b[1;31mNameError\u001b[0m                                 Traceback (most recent call last)",
      "Cell \u001b[1;32mIn [1], line 2\u001b[0m\n\u001b[0;32m      1\u001b[0m \u001b[39m#datagen = ImageDataGenerator(shear_range=0.2, zoom_range=0.2, rotation_range=90) \u001b[39;00m\n\u001b[1;32m----> 2\u001b[0m datagen \u001b[39m=\u001b[39m ImageDataGenerator(\n\u001b[0;32m      3\u001b[0m                     rotation_range\u001b[39m=\u001b[39m\u001b[39m90\u001b[39m,\n\u001b[0;32m      4\u001b[0m                     horizontal_flip\u001b[39m=\u001b[39m\u001b[39mTrue\u001b[39;00m,\n\u001b[0;32m      5\u001b[0m                     vertical_flip\u001b[39m=\u001b[39m\u001b[39mTrue\u001b[39;00m,\n\u001b[0;32m      6\u001b[0m                     width_shift_range\u001b[39m=\u001b[39m\u001b[39m45.0\u001b[39m,\n\u001b[0;32m      7\u001b[0m                     height_shift_range\u001b[39m=\u001b[39m\u001b[39m45.0\u001b[39m) \n\u001b[0;32m      9\u001b[0m img_folder  \u001b[39m=\u001b[39m \u001b[39m\"\u001b[39m\u001b[39m./\u001b[39m\u001b[39m\"\u001b[39m\n\u001b[0;32m     10\u001b[0m image_names\u001b[39m=\u001b[39mos\u001b[39m.\u001b[39mlistdir(img_folder)\n",
      "\u001b[1;31mNameError\u001b[0m: name 'ImageDataGenerator' is not defined"
     ]
    }
   ],
   "source": [
    "#datagen = ImageDataGenerator(shear_range=0.2, zoom_range=0.2, rotation_range=90) \n",
    "datagen = ImageDataGenerator(\n",
    "                    rotation_range=90,\n",
    "                    horizontal_flip=True,\n",
    "                    vertical_flip=True,\n",
    "                    width_shift_range=45.0,\n",
    "                    height_shift_range=45.0) \n",
    "\n",
    "img_folder  = \"./\"\n",
    "image_names=os.listdir(img_folder)\n",
    "\n",
    "for filename in image_names:\n",
    "    print(filename)\n",
    "    img = load_img(filename)  \n",
    "    x = img_to_array(img) \n",
    "    # Reshape the input image \n",
    "    x = x.reshape((1, ) + x.shape)  \n",
    "    i = 0\n",
    "    \n",
    "    n = 50\n",
    "    # generate n new augmented images \n",
    "    for batch in datagen.flow(x, batch_size = 1, save_to_dir = 'augmented', save_format ='jpg'):\n",
    "        i += 1\n",
    "        if i > n: \n",
    "            break"
   ]
  },
  {
   "cell_type": "code",
   "execution_count": null,
   "id": "5921554e",
   "metadata": {},
   "outputs": [],
   "source": []
  },
  {
   "cell_type": "code",
   "execution_count": null,
   "id": "e03515f2",
   "metadata": {},
   "outputs": [],
   "source": []
  }
 ],
 "metadata": {
  "kernelspec": {
   "display_name": "Python 3.10.2 ('.venv': venv)",
   "language": "python",
   "name": "python3"
  },
  "language_info": {
   "codemirror_mode": {
    "name": "ipython",
    "version": 3
   },
   "file_extension": ".py",
   "mimetype": "text/x-python",
   "name": "python",
   "nbconvert_exporter": "python",
   "pygments_lexer": "ipython3",
   "version": "3.10.2"
  },
  "vscode": {
   "interpreter": {
    "hash": "8cc39940fa8c8f1b74db1890dc32b38892106f18a7e775fa46457c1d38915099"
   }
  }
 },
 "nbformat": 4,
 "nbformat_minor": 5
}
